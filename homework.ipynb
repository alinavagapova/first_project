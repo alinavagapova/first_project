{
 "cells": [
  {
   "cell_type": "code",
   "execution_count": 1,
   "id": "9c275473",
   "metadata": {},
   "outputs": [
    {
     "ename": "SyntaxError",
     "evalue": "invalid syntax. Perhaps you forgot a comma? (2470799952.py, line 1)",
     "output_type": "error",
     "traceback": [
      "\u001b[1;36m  Input \u001b[1;32mIn [1]\u001b[1;36m\u001b[0m\n\u001b[1;33m    2. Создать произвольный список из целочисленных значений от 0 до 20(вкл.)\u001b[0m\n\u001b[1;37m    ^\u001b[0m\n\u001b[1;31mSyntaxError\u001b[0m\u001b[1;31m:\u001b[0m invalid syntax. Perhaps you forgot a comma?\n"
     ]
    }
   ],
   "source": [
    "2. Создать произвольный список из целочисленных значений от 0 до 20(вкл.)\n",
    "    Пройтись по этому списку в цикле\n",
    "    и принтовать значние если оно нечетное ( i is odd)\n",
    "    и принтовать значние если оно четное ( i is even)\n",
    "    используя f-строки\n",
    "    \n",
    "import numpy as np\n",
    "# test_list = np.random.randint(0, 20, 10)\n",
    "# print(test_list)\n",
    "# вопрос - как создать произвольного размера список?\n",
    "test_list = np.random.choice(20, 10)\n",
    "print(test_list)\n",
    "for i in range(len(test_list)):\n",
    "    if (test_list[i]) % 2 == 0:\n",
    "        print(i, f'{test_list[i]} is even')\n",
    "    else:\n",
    "        print(i, f'{test_list[i]} is odd')"
   ]
  },
  {
   "cell_type": "code",
   "execution_count": 2,
   "id": "e774942d",
   "metadata": {},
   "outputs": [
    {
     "name": "stdout",
     "output_type": "stream",
     "text": [
      "[('a', 'a'), ('?', 'b'), ('c', '5')]\n",
      "True\n",
      "True\n",
      "False\n"
     ]
    }
   ],
   "source": [
    "# задачка №1:\n",
    "# написать функцию сравнения двух пар листов строк ,кортежей или словарей с использованием zip,\n",
    "# при этом элемент равный '?' будет считаться как любой другой один элемент\n",
    "# пример:\n",
    "# a ='abc'\n",
    "# b='a?c'\n",
    "# функция должна возвращать True так как по условию ? это любой элемент, поэтому b=?\n",
    "# a ='abc'\n",
    "# b='agc'\n",
    "# функция должна возвращать False\n",
    "a = 'a?c'\n",
    "b = 'ab5'\n",
    "c = list(zip(a, b))\n",
    "print(c)\n",
    "for i in c:\n",
    "    for j in range(len(i)):\n",
    "        if j == len(i) - 1:\n",
    "            break\n",
    "        elif i[j] == i[j+1]:\n",
    "            print(True)\n",
    "        elif i[j] == '?':\n",
    "            print(True)\n",
    "        elif i[j+1] == '?':\n",
    "            print(True)\n",
    "        else:\n",
    "            print(False)"
   ]
  },
  {
   "cell_type": "code",
   "execution_count": 4,
   "id": "7ffe281e",
   "metadata": {},
   "outputs": [
    {
     "name": "stdout",
     "output_type": "stream",
     "text": [
      "True\n",
      "True\n",
      "False\n"
     ]
    }
   ],
   "source": [
    "for i in c:\n",
    "    cur_j = None\n",
    "    for j in i:\n",
    "        if cur_j == None:\n",
    "            cur_j = j\n",
    "        elif j == cur_j:\n",
    "            print(True)\n",
    "        elif j == '?':\n",
    "            print(True)\n",
    "        elif cur_j == '?':\n",
    "            print(True)\n",
    "        else:\n",
    "            print(False)            "
   ]
  },
  {
   "cell_type": "code",
   "execution_count": 5,
   "id": "a1ba242e",
   "metadata": {},
   "outputs": [
    {
     "name": "stdout",
     "output_type": "stream",
     "text": [
      "True\n",
      "True\n",
      "False\n"
     ]
    }
   ],
   "source": [
    "for i in c:\n",
    "    cur_j = None\n",
    "    for j in i:\n",
    "        if cur_j == None:\n",
    "            cur_j = j\n",
    "        elif j == cur_j or j == '?' or cur_j == '?':\n",
    "            print(True)\n",
    "        else:\n",
    "            print(False) "
   ]
  },
  {
   "cell_type": "code",
   "execution_count": 8,
   "id": "71654312",
   "metadata": {},
   "outputs": [
    {
     "data": {
      "text/plain": [
       "2"
      ]
     },
     "execution_count": 8,
     "metadata": {},
     "output_type": "execute_result"
    }
   ],
   "source": [
    "# задачка №2*:\n",
    "# Написать функцию, которая определяет минимальное количество прыжков от начального индекса, до максимального\n",
    "# Учитывая массив неотрицательных целых чисел integers, изначально позиционируетесь в первом индексе массива.\n",
    "# Каждый элемент массива (именно значение) представляет максимальную длину прыжка в этой позиции.\n",
    "#  цель - достичь последнего индекса за минимальное количество прыжков.\n",
    "# Можно предположить, что  всегда можете добраться до последнего индекса.\n",
    "# пример 1:\n",
    "# integers = [2,3,1,0,1,4]\n",
    "# на выходе 2\n",
    "# Объяснение: Минимальное количество переходов для достижения последнего индекса равно 2. Перейти на 1 шаг от индекса 0 до 1, затем на 3 шага до последнего индекса.\n",
    "# пример 2:\n",
    "# integers = [1,3,0,1,4]\n",
    "# на выходе 2\n",
    "\n",
    "test_list = [1,3,0,1,4]\n",
    "\n",
    "def jump_calculation(x: list)->int:\n",
    "    min_jump = 0\n",
    "    if len(x) == 1:\n",
    "        return min_jump\n",
    "    elif x[0] == 0:\n",
    "        print('No solution')\n",
    "        return min_jump\n",
    "    \n",
    "    cur_jump_step = x[0]\n",
    "    max_jump_step = x[0]\n",
    "    \n",
    "    for i in range(1, len(x)-1):\n",
    "        cur_jump_step -=1\n",
    "        max_jump_step = max(max_jump_step, x[i]+i)\n",
    "        if cur_jump_step == 0:\n",
    "            min_jump +=1\n",
    "            cur_jump_step = max_jump_step - i\n",
    "    min_jump +=1\n",
    "        \n",
    "    return min_jump\n",
    "\n",
    "jump_calculation(test_list)"
   ]
  },
  {
   "cell_type": "code",
   "execution_count": null,
   "id": "868c4176",
   "metadata": {},
   "outputs": [],
   "source": [
    "test_list = [2, 3, 0, 1, 4]\n",
    "\n",
    "\n",
    "def jump_calculation(x: list) -> int:\n",
    "    min_jump = 0\n",
    "    if len(x) == 1:\n",
    "        return min_jump\n",
    "    elif x[0] == 0:\n",
    "        print('No solution')\n",
    "        return min_jump\n",
    "\n",
    "    cur_jump_step = x[0]\n",
    "    max_jump_step = x[0]\n",
    "\n",
    "    for i in range(1, len(x) - 1):\n",
    "        cur_jump_step -= 1\n",
    "        max_jump_step = max(max_jump_step, x[i]) #максимальная длина прыжка с учетом предыдущих шагов\n",
    "        if cur_jump_step == 0:\n",
    "            min_jump += 1\n",
    "            cur_jump_step = max_jump_step\n",
    "    min_jump += 1\n",
    "\n",
    "    return min_jump\n",
    "\n",
    "\n",
    "print(jump_calculation(test_list))\n"
   ]
  },
  {
   "cell_type": "code",
   "execution_count": null,
   "id": "e117c3d2",
   "metadata": {},
   "outputs": [],
   "source": [
    "# задачка №3:\n",
    "# Написать функцию с использованием map, которая будет возвращать  список, умноженый, поделеный , сложеный или возведенный в степень указанного значения\n",
    "# пример 1:\n",
    "# integers = [2,3,1,1,4]\n",
    "# * 2\n",
    "# на выходе [4,6,2,2,8]\n",
    "\n",
    "def calculator(x: list, y: str) -> list:\n",
    "    a = y.split(' ')\n",
    "    if a[0] == '*':\n",
    "        b = list(map(lambda m: m*int(a[1]), x))\n",
    "        return b\n",
    "    elif a[0] == '/':\n",
    "        b = list(map(lambda m: m/int(a[1]), x))\n",
    "        return b\n",
    "    elif a[0] == '+':\n",
    "        b = list(map(lambda m: m+int(a[1]), x))\n",
    "        return b\n",
    "    elif a[0] == '**':\n",
    "        b = list(map(lambda m: m**int(a[1]), x))\n",
    "        return b\n",
    "    else:\n",
    "        raise ValueError('Вы ввели неправильные аргументы')\n",
    "\n",
    "test_list = [2, 3, 5, 7, 40]\n",
    "test_str = input('Введите, что нужно сделать:')\n",
    "print(calculator(test_list, test_str))"
   ]
  },
  {
   "cell_type": "code",
   "execution_count": 12,
   "id": "1e7df98b",
   "metadata": {},
   "outputs": [
    {
     "data": {
      "text/plain": [
       "'2'"
      ]
     },
     "execution_count": 12,
     "metadata": {},
     "output_type": "execute_result"
    }
   ],
   "source": [
    "a = '* 2'.split(' ')\n",
    "a[1]\n"
   ]
  },
  {
   "cell_type": "code",
   "execution_count": null,
   "id": "61587b0f",
   "metadata": {},
   "outputs": [],
   "source": [
    "3.  Создать пустой список и заполнить случайными заначениями\n",
    "   Hint: использовать библиотеку random для генерации случайных значений\n",
    "        \n",
    "import random\n",
    "\n",
    "test_list = []\n",
    "while len(test_list) != 5:\n",
    "    test_list.append(random.randint(1, 10))\n",
    "print(test_list)\n"
   ]
  },
  {
   "cell_type": "code",
   "execution_count": null,
   "id": "71e1143a",
   "metadata": {},
   "outputs": [],
   "source": []
  },
  {
   "cell_type": "code",
   "execution_count": null,
   "id": "9b3afcdd",
   "metadata": {},
   "outputs": [],
   "source": [
    "4. Создать словарь (не пустой) и отобразить все пары ключ значение\n",
    "    если значение равно 'Alina'\n",
    "    \n",
    "\n",
    "# это решение я нашла в интернете\n",
    "# test_dict = {'key_1': 'Alina', 'key_2': 'notAlina', 'key_3': 'one_more_Alina', 'key_4': 'Alina'}\n",
    "# alina_dict = test_dict.items()\n",
    "# for key, values in alina_dict:\n",
    "#     if values == 'Alina':\n",
    "#         print(key, '->', values)\n",
    "\n",
    "test_dict = {'key_1': 'Alina', 'key_2': 'notAlina', 'key_3': 'one_more_Alina', 'key_4': 'Alina'}\n",
    "for i, j in test_dict.items():\n",
    "    if j == 'Alina':\n",
    "        print(i, j)"
   ]
  },
  {
   "cell_type": "code",
   "execution_count": null,
   "id": "775cf2c8",
   "metadata": {},
   "outputs": [],
   "source": [
    "5. Написать функцию которая будет считать дискриминант (через lambda и def)\n",
    "\n",
    "def discriminant(a: int, b: int, c: int) -> int:\n",
    "    d = b**2 - 4*a*c\n",
    "    return d\n",
    "print(discriminant(5,6,7))\n",
    "\n",
    "discriminant = lambda a, b, c: b**2 - 4*a*c\n",
    "print(discriminant(5, 6, 7))\n"
   ]
  },
  {
   "cell_type": "code",
   "execution_count": null,
   "id": "7d303d83",
   "metadata": {},
   "outputs": [],
   "source": [
    "6. Нарисовать график двух котрежей и подписать у графика оси, и поменять цвет\n",
    "\n",
    "import matplotlib.pyplot as plt\n",
    "import numpy as np\n",
    "\n",
    "y = lambda x: x\n",
    "fig = plt.subplots()\n",
    "x = np.linspace(0, 5, 100)\n",
    "plt.plot(x, y(x))\n",
    "ax = plt.gca()\n",
    "ax.set_xlabel(\"Ось X\", fontsize=15, color='red')\n",
    "ax.set_ylabel(\"Ось Y\", fontsize=15, color='green')\n",
    "plt.show()\n",
    "\n",
    "\n",
    "import matplotlib.pyplot as plt\n",
    "import numpy as np\n",
    "y = lambda x: x**2\n",
    "fig = plt.subplots()\n",
    "x = [0, 2, 4, 6]\n",
    "z = [1, 3, 5, 7]\n",
    "print(x, z)\n",
    "plt.plot(x, z, color='r', linestyle=':')\n",
    "plt.plot(x, list(map(y, x)))\n",
    "plt.title('График')\n",
    "ax = plt.gca()\n",
    "ax.set_xlabel(\"Ось X\", fontsize=15, color='red')\n",
    "ax.set_ylabel(\"Ось Y\", fontsize=15, color='green')\n",
    "plt.savefig('graph.png')\n",
    "plt.show()\n"
   ]
  },
  {
   "cell_type": "code",
   "execution_count": 16,
   "id": "7a9d605e",
   "metadata": {},
   "outputs": [
    {
     "ename": "ModuleNotFoundError",
     "evalue": "No module named 'pandas'",
     "output_type": "error",
     "traceback": [
      "\u001b[1;31m---------------------------------------------------------------------------\u001b[0m",
      "\u001b[1;31mModuleNotFoundError\u001b[0m                       Traceback (most recent call last)",
      "Input \u001b[1;32mIn [16]\u001b[0m, in \u001b[0;36m<cell line: 2>\u001b[1;34m()\u001b[0m\n\u001b[0;32m      1\u001b[0m \u001b[38;5;66;03m# определить кто(сколько человек) спасся по группировке по классу билета(люкс, не люкс)\u001b[39;00m\n\u001b[1;32m----> 2\u001b[0m \u001b[38;5;28;01mimport\u001b[39;00m \u001b[38;5;21;01mpandas\u001b[39;00m \u001b[38;5;28;01mas\u001b[39;00m \u001b[38;5;21;01mpd\u001b[39;00m\n\u001b[0;32m      3\u001b[0m df_titanic \u001b[38;5;241m=\u001b[39m pd\u001b[38;5;241m.\u001b[39mread_excel(\u001b[38;5;124m'\u001b[39m\u001b[38;5;124mTask2_TITANIC_DATA.xlsx\u001b[39m\u001b[38;5;124m'\u001b[39m)\n\u001b[0;32m      4\u001b[0m df_titanic\u001b[38;5;241m.\u001b[39mcolumns\u001b[38;5;241m.\u001b[39mtolist()\n",
      "\u001b[1;31mModuleNotFoundError\u001b[0m: No module named 'pandas'"
     ]
    }
   ],
   "source": [
    "# определить кто(сколько человек) спасся по группировке по классу билета(люкс, не люкс)\n",
    "import pandas as pd\n",
    "df_titanic = pd.read_excel('Task2_TITANIC_DATA.xlsx')\n",
    "df_titanic.columns.tolist()\n",
    "print(df_titanic[['Класс каюты', 'Cпаслись или нет']]).groupby(['Класс каюты', 'Cпаслись или нет'].count())\n",
    "\n",
    "\n",
    "# print(df_titanic['Cпаслись или нет'].info()) -- None из-за этого ругается на группировку по этому объекту"
   ]
  },
  {
   "cell_type": "code",
   "execution_count": null,
   "id": "15a60020",
   "metadata": {},
   "outputs": [],
   "source": [
    "# Создать колонку  \" Размер семьи на борту\"\n",
    "import pandas as pd\n",
    "df_titanic = pd.read_excel('Task2_TITANIC_DATA.xlsx')\n",
    "df_titanic.columns.tolist()\n",
    "def size_of_family (x:int) -> str:\n",
    "    y = str()\n",
    "    if x >= 4:\n",
    "        y = 'большая'\n",
    "    elif x == 3 or x == 2:\n",
    "        y = 'средняя'\n",
    "    elif x == 1:\n",
    "        y = 'маленькая'\n",
    "    else:\n",
    "        y = 'нет семьи'\n",
    "    return y\n",
    "\n",
    "\n",
    "\n",
    "df_titanic['Размер семьи'] = df_titanic['Количество родственников на борту'].apply(lambda x: size_of_family(x))\n",
    "print(df_titanic[['Количество родственников на борту', 'Размер семьи']].head(100))"
   ]
  },
  {
   "cell_type": "code",
   "execution_count": null,
   "id": "4fd4acbb",
   "metadata": {},
   "outputs": [],
   "source": [
    "# TITANIC\n",
    "# Создать колонки  \"Классификация семьи\" (большая, средняя, маленькая), -- это сделала в предыдущем задании\n",
    "# \"Дееспособность\" ребенок и старик не могут спасать и \"Бесплатный билет\" \n",
    "import pandas as pd\n",
    "df_titanic = pd.read_excel('Task2_TITANIC_DATA.xlsx')\n",
    "df_titanic.columns.tolist()\n",
    "# print(df_titanic['Cтоимость билета'].info())\n",
    "\n",
    "def ability (x:int)-> int:\n",
    "    if (0 <= x < 17) or x >= 65:\n",
    "        return 0\n",
    "    else:\n",
    "        return 1\n",
    "\n",
    "def is_free_ticket (y:float)-> int:\n",
    "    if y == 0:\n",
    "        return 1\n",
    "    else:\n",
    "        return 0\n",
    "\n",
    "df_titanic['Дееспособность'] = df_titanic['Возраст'].apply(lambda x: ability(x))\n",
    "df_titanic['Бесплатный билет'] = df_titanic['Cтоимость билета'].apply(lambda y: is_free_ticket(y))\n",
    "print(df_titanic[['Возраст', 'Дееспособность', 'Cтоимость билета', 'Бесплатный билет']].head(8))"
   ]
  }
 ],
 "metadata": {
  "kernelspec": {
   "display_name": "Python 3 (ipykernel)",
   "language": "python",
   "name": "python3"
  },
  "language_info": {
   "codemirror_mode": {
    "name": "ipython",
    "version": 3
   },
   "file_extension": ".py",
   "mimetype": "text/x-python",
   "name": "python",
   "nbconvert_exporter": "python",
   "pygments_lexer": "ipython3",
   "version": "3.10.0"
  }
 },
 "nbformat": 4,
 "nbformat_minor": 5
}
