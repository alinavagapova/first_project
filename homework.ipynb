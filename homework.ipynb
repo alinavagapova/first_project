{
 "cells": [
  {
   "cell_type": "code",
   "execution_count": null,
   "id": "719cdcc9",
   "metadata": {},
   "outputs": [],
   "source": [
    "2. Создать произвольный список из целочисленных значений от 0 до 20(вкл.)\n",
    "    Пройтись по этому списку в цикле\n",
    "    и принтовать значние если оно нечетное ( i is odd)\n",
    "    и принтовать значние если оно четное ( i is even)\n",
    "    используя f-строки\n",
    "    \n",
    "import numpy as np\n",
    "# test_list = np.random.randint(0, 20, 10)\n",
    "# print(test_list)\n",
    "# вопрос - как создать произвольного размера список?\n",
    "test_list = np.random.choice(20, 10)\n",
    "print(test_list)\n",
    "for i in range(len(test_list)):\n",
    "    if (test_list[i]) % 2 == 0:\n",
    "        print(i, f'{test_list[i]} is even')\n",
    "    else:\n",
    "        print(i, f'{test_list[i]} is odd')"
   ]
  },
  {
   "cell_type": "code",
   "execution_count": null,
   "id": "82feb0c5",
   "metadata": {},
   "outputs": [],
   "source": [
    "4. Создать словарь (не пустой) и отобразить все пары ключ значение\n",
    "    если значение равно 'Alina'\n",
    "    \n",
    "    4. Создать словарь (не пустой) и отобразить все пары ключ значение\n",
    "\n",
    "# это решение я нашла в интернете\n",
    "# test_dict = {'key_1': 'Alina', 'key_2': 'notAlina', 'key_3': 'one_more_Alina', 'key_4': 'Alina'}\n",
    "# alina_dict = test_dict.items()\n",
    "# for key, values in alina_dict:\n",
    "#     if values == 'Alina':\n",
    "#         print(key, '->', values)\n",
    "\n",
    "test_dict = {'key_1': 'Alina', 'key_2': 'notAlina', 'key_3': 'one_more_Alina', 'key_4': 'Alina'}\n",
    "for i, j in test_dict.items():\n",
    "    if j == 'Alina':\n",
    "        print(i, j)"
   ]
  },
  {
   "cell_type": "code",
   "execution_count": null,
   "id": "fe6b89c7",
   "metadata": {},
   "outputs": [],
   "source": [
    "5. Написать функцию которая будет считать дискриминант (через lambda и def)\n",
    "\n",
    "def discriminant(a: int, b: int, c: int) -> int:\n",
    "    d = b**2 - 4*a*c\n",
    "    return d\n",
    "print(discriminant(5,6,7))\n",
    "\n",
    "discriminant = lambda a, b, c: b**2 - 4*a*c\n",
    "print(discriminant(5, 6, 7))\n"
   ]
  },
  {
   "cell_type": "code",
   "execution_count": null,
   "id": "4f6b2283",
   "metadata": {},
   "outputs": [],
   "source": []
  }
 ],
 "metadata": {
  "kernelspec": {
   "display_name": "Python 3 (ipykernel)",
   "language": "python",
   "name": "python3"
  },
  "language_info": {
   "codemirror_mode": {
    "name": "ipython",
    "version": 3
   },
   "file_extension": ".py",
   "mimetype": "text/x-python",
   "name": "python",
   "nbconvert_exporter": "python",
   "pygments_lexer": "ipython3",
   "version": "3.10.0"
  }
 },
 "nbformat": 4,
 "nbformat_minor": 5
}
