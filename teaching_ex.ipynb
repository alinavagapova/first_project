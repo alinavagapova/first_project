{
 "cells": [
  {
   "cell_type": "code",
   "execution_count": null,
   "metadata": {
    "collapsed": true
   },
   "outputs": [],
   "source": [
    "\"\"\"Список(List) - изменяемая структура (иногда называют массивом)\n",
    "срезы списка <list>[<start>:<stop не включительно>:<step>]\n",
    "len(<структура>) - отображает длину структуры\n",
    "\n",
    "\"\"\"\n",
    "test_list = [1,2,3,2.3,'123']\n",
    "print(test_list)\n",
    "test_list.append('mayonez')\n",
    "test_list[2] = 'ketchup'\n",
    "print(test_list)\n",
    "print(test_list.pop(3))\n",
    "print(test_list)\n",
    "print(len(test_list))\n",
    "test_list_child = test_list[:3].copy()\n",
    "print(test_list_child)\n",
    "\n"
   ]
  },
  {
   "cell_type": "code",
   "execution_count": null,
   "metadata": {
    "pycharm": {
     "name": "#%%\n"
    }
   },
   "outputs": [],
   "source": [
    "\"\"\"Кортеж (tuple) - неизменяемая структура (иногда называют массивом),\n",
    " аналогичен списку, только его нельзя изменить\"\"\"\n",
    "test_tuple = (1,2,3,2.3,'123')\n",
    "print(test_tuple[0:2])\n",
    "# test_tuple[2] = 'ketchup' - менять нельзя\n",
    "print(test_tuple)\n"
   ]
  },
  {
   "cell_type": "code",
   "execution_count": null,
   "metadata": {
    "pycharm": {
     "name": "#%%\n"
    }
   },
   "outputs": [],
   "source": [
    "\"\"\"Словарь (dict) - изменяемая структура (иногда называют массивом),\n",
    " аналогичен списку, можно изменять, только индексами являются ключи\"\"\"\n",
    "test_dict = {\"key_1\": 1,\"key_2\": 2,\"key_3\": [2.3,3,4,5],\"key_4\": \"Alina\" }\n",
    "\n",
    "\n",
    "print(test_dict[\"key_3\"])\n",
    "\n",
    "test_dict[\"key_2\"] = 'ketchup'\n",
    "test_dict[\"mashina\"] = 'lada'\n",
    "\n",
    "print(test_dict)\n",
    "print(test_dict.keys())\n",
    "print(test_dict.values())\n",
    "print(test_dict.items())"
   ]
  },
  {
   "cell_type": "code",
   "execution_count": null,
   "metadata": {
    "pycharm": {
     "name": "#%%\n"
    }
   },
   "outputs": [],
   "source": [
    "\"\"\"структуры иногда называют iterable\"\"\"\n",
    "\"\"\"Цикл For \"\"\"\n",
    "test_list = [10,15,20,'ketchup']\n",
    "print(list(range(5)))\n",
    "\n",
    "for i in range(len(test_list)):\n",
    "    print(i,test_list[i])\n",
    "\n",
    "#enumerate - выдает нам пару значений - индекс и значение этого индекса\n",
    "for i,v in enumerate(test_list):\n",
    "    print(i,v)\n",
    "\n",
    "test_dict = {\"key_1\": 1,\"key_2\": 2,\"key_3\": [2.3,3,4,5],\"key_4\": \"Alina\" }\n",
    "for i in test_dict:\n",
    "    print(i,test_dict[i])\n",
    "a = 15\n",
    "\n",
    "for i in range(a):\n",
    "    if i == 6:\n",
    "        print(\"a is 6\")\n",
    "    elif i==7:\n",
    "        continue # переходит итерацию цикла\n",
    "        print(\"a is 7\")\n",
    "    elif i == 13:\n",
    "        print(\"a is 13\")\n",
    "        break\n",
    "    else:\n",
    "        print(i)\n"
   ]
  },
  {
   "cell_type": "code",
   "execution_count": null,
   "metadata": {
    "pycharm": {
     "name": "#%%\n"
    }
   },
   "outputs": [],
   "source": [
    "\"\"\"Цикл while\"\"\"\n",
    "#бесконечный цикл\n",
    "# while True:\n",
    "#     print(a)\n",
    "#     break # ломает цикл\n",
    "a = 5\n",
    "while a<15:\n",
    "    if a==6:\n",
    "        print(\"a is 6\")\n",
    "    elif a==7:\n",
    "        print(\"a is 7\")\n",
    "    elif a==13:\n",
    "        break # ломает цикл\n",
    "\n",
    "    a+=1 #a=a+1"
   ]
  },
  {
   "cell_type": "code",
   "execution_count": null,
   "metadata": {
    "pycharm": {
     "name": "#%%\n"
    }
   },
   "outputs": [],
   "source": [
    "\"\"\"def - define\n",
    "def <имя функции>(<аргументы функции>):\n",
    "    <тело функции>\n",
    "    :return <значение которое мы хотим вернуть>\n",
    "\"\"\"\n",
    "def test_alina(a:int)->int:\n",
    "    \"\"\"Умножает введенное число на 5\"\"\"\n",
    "    a = a*5\n",
    "    print(a)\n",
    "    return a\n",
    "\n",
    "b =test_alina(5)\n",
    "print(b)\n",
    "\n"
   ]
  },
  {
   "cell_type": "code",
   "execution_count": null,
   "metadata": {
    "pycharm": {
     "name": "#%%\n"
    }
   },
   "outputs": [],
   "source": [
    "\"\"\"lambda - функции\"\n",
    "lambda <аргументы через запятую>:<тело функции>\n",
    "\"\"\"\n",
    "test_lambda = lambda x,y:x+y\n",
    "print(test_lambda(5,3))"
   ]
  },
  {
   "cell_type": "code",
   "execution_count": null,
   "metadata": {
    "pycharm": {
     "name": "#%%\n"
    }
   },
   "outputs": [],
   "source": [
    "\"\"\"рисуем графики\"\"\"\n",
    "import matplotlib.pyplot as plt\n",
    "a = [1,2,3,4,5]\n",
    "b = [10,2,13,7,3]\n",
    "plt.plot(a,b)\n",
    "plt.show()"
   ]
  },
  {
   "cell_type": "code",
   "execution_count": null,
   "metadata": {
    "pycharm": {
     "name": "#%%\n"
    }
   },
   "outputs": [],
   "source": [
    "\"\"\"\n",
    "1. Создать новую ветку в гите с названием Homerwork\n",
    "     и создать в ней скрипт, в которой будут решения домашних заданий с requirenments\n",
    "     и readme и gitingore\n",
    "2. Создать произвольный список из целочисленных значений от 0 до 20(вкл.)\n",
    "    Пройтись по этому списку в цикле\n",
    "    и принтовать значние если оно нечетное ( i is odd)\n",
    "    и принтовать значние если оно четное ( i is even)\n",
    "    используя f-строки\n",
    "3. Создать пустой список и заполнить случайными заначениями\n",
    "   Hint: использовать библиотеку random для генерации случайных значений\n",
    "4. Создать словарь (не пустой) и отобразить все пары ключ значение\n",
    "    если значение равно 'Alina'\n",
    "5. Написать функцию которая будет считать дискриминант (через lambda и def)\n",
    "6. Нарисовать график двух котрежей и подписать у графика оси, и поменять цвет\n",
    "\n",
    "\"\"\"\n"
   ]
  }
 ],
 "metadata": {
  "kernelspec": {
   "display_name": "Python 3 (ipykernel)",
   "language": "python",
   "name": "python3"
  },
  "language_info": {
   "codemirror_mode": {
    "name": "ipython",
    "version": 3
   },
   "file_extension": ".py",
   "mimetype": "text/x-python",
   "name": "python",
   "nbconvert_exporter": "python",
   "pygments_lexer": "ipython3",
   "version": "3.10.0"
  }
 },
 "nbformat": 4,
 "nbformat_minor": 1
}
